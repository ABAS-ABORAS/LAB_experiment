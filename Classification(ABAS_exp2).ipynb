{
 "cells": [
  {
   "cell_type": "code",
   "execution_count": 1,
   "metadata": {
    "collapsed": true
   },
   "outputs": [],
   "source": [
    "# *******************loading the Dataset***************\n",
    "# step1: \n",
    "# This  step am get Dataset from my computer \n",
    "\n",
    "\n",
    "from sklearn.datasets import load_svmlight_file\n",
    "X,y = load_svmlight_file(\"C:/ABAS/DATA/australian_scale.txt\",n_features=14) # \n",
    "X = X.toarray()"
   ]
  },
  {
   "cell_type": "code",
   "execution_count": 2,
   "metadata": {
    "collapsed": true
   },
   "outputs": [],
   "source": [
    "# Step2 : ***************   Devided The Dataset into Traning set and Validation Set   **********\n",
    "from sklearn.model_selection import train_test_split\n",
    "X_train, X_val, y_train, y_val = train_test_split(X, y, test_size=0.31, random_state=42)"
   ]
  },
  {
   "cell_type": "code",
   "execution_count": 3,
   "metadata": {
    "collapsed": true
   },
   "outputs": [],
   "source": [
    "# importing nump library\n",
    "import numpy as nupy\n",
    "n_samples_train,n_featues_train = X_train.shape\n",
    "X_train = nupy.concatenate((X_train,nupy.ones(shape=(n_samples_train,1))),axis=1)\n",
    "y_train = y_train.reshape((n_samples_train,1))\n",
    "n_samples_val,n_featues_val = X_val.shape\n",
    "X_val = nupy.concatenate((X_val,nupy.ones(shape=(n_samples_val,1))),axis=1)\n",
    "y_val = y_val.reshape((n_samples_val,1))"
   ]
  },
  {
   "cell_type": "code",
   "execution_count": 4,
   "metadata": {
    "collapsed": true
   },
   "outputs": [],
   "source": [
    "max_epoch = 100 # No.training epoch= 100\n",
    "learning_rate = 0.001  \n",
    "C = 0.5\n",
    "losses_train = []\n",
    "losses_val = []\n",
    "W = nupy.random.random(size=(n_featues_train+1,1))"
   ]
  },
  {
   "cell_type": "code",
   "execution_count": 6,
   "metadata": {},
   "outputs": [
    {
     "name": "stdout",
     "output_type": "stream",
     "text": [
      "epoch=0,acc_train=0.794118,acc_val=0.799065\n",
      "epoch=10,acc_train=0.859244,acc_val=0.883178\n",
      "epoch=20,acc_train=0.855042,acc_val=0.878505\n",
      "epoch=30,acc_train=0.861345,acc_val=0.859813\n",
      "epoch=40,acc_train=0.852941,acc_val=0.869159\n",
      "epoch=50,acc_train=0.852941,acc_val=0.864486\n",
      "epoch=60,acc_train=0.852941,acc_val=0.864486\n",
      "epoch=70,acc_train=0.852941,acc_val=0.859813\n",
      "epoch=80,acc_train=0.855042,acc_val=0.859813\n",
      "epoch=90,acc_train=0.855042,acc_val=0.859813\n"
     ]
    }
   ],
   "source": [
    "#Training Datat\n",
    "\n",
    "for epoch in range(max_epoch):#  This function epoch  division of  time less than a period for trainig data\n",
    "    h = 1- y_train*nupy.dot(X_train,W)\n",
    "    tmp = nupy.where(h>0,y_train,0)\n",
    "    W = W - learning_rate * (W - C * nupy.dot(X_train.transpose(),tmp)) # Update Weight\n",
    "\n",
    "    y_predict_train = nupy.where(nupy.dot(X_train,W) > 0,1,-1)\n",
    "    loss_train = nupy.sum(W * W) + C * nupy.sum(nupy.maximum(1 - y_train * nupy.dot(X_train, W), 0))\n",
    "    losses_train.append(loss_train / n_samples_train)\n",
    "\n",
    "    y_predict_val = nupy.where(nupy.dot(X_val, W) > 0, 1, -1)\n",
    "    loss_val = nupy.sum(W * W) + C * nupy.sum(nupy.maximum(1 - y_val * nupy.dot(X_val, W), 0))\n",
    "    losses_val.append(loss_val / n_samples_val)\n",
    "    if (epoch % 10 == 0):  #trainig each 10 iteam   \n",
    "        print(\"epoch={},acc_train={:.6f},acc_val={:.6f}\".format(epoch,\n",
    "                                                                nupy.average(y_train == y_predict_train),\n",
    "                                                                nupy.average(y_val == y_predict_val)))"
   ]
  },
  {
   "cell_type": "code",
   "execution_count": 54,
   "metadata": {},
   "outputs": [
    {
     "name": "stdout",
     "output_type": "stream",
     "text": [
      "             precision    recall  f1-score   support\n",
      "\n",
      "   Class 0       0.948     0.838     0.890       130\n",
      "    Class 1      0.788     0.929     0.852        84\n",
      "\n",
      "avg / total      0.885     0.874     0.875       214\n",
      "\n"
     ]
    }
   ],
   "source": [
    "#  Build a text report showing the main classification metrics\n",
    "from sklearn.metrics import classification_report \n",
    "#Note that in binary classification, recall of the positive class is also known as “sensitivity”;recall of the negative class is “specificity\n",
    "\n",
    "# *************************** print report ***************************************************\n",
    "print(classification_report(y_val,nupy.where(nupy.dot(X_val, W) > 0, 1, -1),\n",
    "                            target_names = [' Class 0 ','Class 1'],digits=3))"
   ]
  },
  {
   "cell_type": "code",
   "execution_count": 9,
   "metadata": {},
   "outputs": [
    {
     "name": "stdout",
     "output_type": "stream",
     "text": [
      "************************************************************* \n",
      "This Result Experiment 2 Linear Classification and Gradient Descent \n",
      "************************************************************* \n"
     ]
    },
    {
     "data": {
      "image/png": "[encoded data removed]",
      "text/plain": [
       "<matplotlib.figure.Figure at 0xa38aa58>"
      ]
     },
     "metadata": {},
     "output_type": "display_data"
    }
   ],
   "source": [
    "\n",
    "# This Drawing Graph of L_train  as well as L_validation with the Number of iterations\n",
    "\n",
    "import matplotlib.pyplot as PLO  # Import this fuction to draw graph\n",
    "\n",
    "PLO.figure(figsize=(5,5))\n",
    "PLO.plot(losses_train,color=\"G\",label=\"Train\")\n",
    "PLO.plot(losses_val,color=\"R\",label=\"Validation\")\n",
    "PLO.legend()\n",
    "PLO.xlabel(\"Iterations\")\n",
    "PLO.ylabel(\"Cost\")\n",
    "print(\"************************************************************* \")\n",
    "print(\"This Result Experiment 2 Linear Classification and Gradient Descent \")\n",
    "print(\"************************************************************* \")\n",
    "PLO.title(\"Error vs. Training Epoch\")\n",
    "PLO.show()"
   ]
  },
  {
   "cell_type": "code",
   "execution_count": null,
   "metadata": {
    "collapsed": true
   },
   "outputs": [],
   "source": []
  },
  {
   "cell_type": "code",
   "execution_count": null,
   "metadata": {
    "collapsed": true
   },
   "outputs": [],
   "source": []
  }
 ],
 "metadata": {
  "kernelspec": {
   "display_name": "Python 3",
   "language": "python",
   "name": "python3"
  },
  "language_info": {
   "codemirror_mode": {
    "name": "ipython",
    "version": 3
   },
   "file_extension": ".py",
   "mimetype": "text/x-python",
   "name": "python",
   "nbconvert_exporter": "python",
   "pygments_lexer": "ipython3",
   "version": "3.6.3"
  }
 },
 "nbformat": 4,
 "nbformat_minor": 2
}
